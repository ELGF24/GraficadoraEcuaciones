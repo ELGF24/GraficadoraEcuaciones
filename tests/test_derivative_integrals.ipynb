{
 "cells": [
  {
   "cell_type": "code",
   "execution_count": 1,
   "id": "0bf872b9",
   "metadata": {},
   "outputs": [],
   "source": [
    "import matplotlib.pyplot as plt\n",
    "import numpy as np\n",
    "import sympy as sm"
   ]
  },
  {
   "cell_type": "code",
   "execution_count": 40,
   "id": "403384ec",
   "metadata": {},
   "outputs": [
    {
     "name": "stdout",
     "output_type": "stream",
     "text": [
      "Ingresa la funcion a grafica, EX:(x**2+2*x+5): sin(x+2)\n",
      "sin(x+2)\n"
     ]
    }
   ],
   "source": [
    "func = input(\"Ingresa la funcion a grafica, EX:(x**2+2*x+5): \")\n",
    "print(func)"
   ]
  },
  {
   "cell_type": "code",
   "execution_count": 7,
   "id": "495c1e81",
   "metadata": {},
   "outputs": [],
   "source": [
    "x = sm.symbols(\"x\")\n"
   ]
  },
  {
   "cell_type": "code",
   "execution_count": 42,
   "id": "86a754a9",
   "metadata": {},
   "outputs": [
    {
     "data": {
      "text/latex": [
       "$\\displaystyle \\cos{\\left(x + 2 \\right)}$"
      ],
      "text/plain": [
       "cos(x + 2)"
      ]
     },
     "execution_count": 42,
     "metadata": {},
     "output_type": "execute_result"
    }
   ],
   "source": [
    "der = sm.diff(func, x)\n",
    "der"
   ]
  },
  {
   "cell_type": "code",
   "execution_count": 43,
   "id": "8f31de68",
   "metadata": {},
   "outputs": [
    {
     "data": {
      "text/latex": [
       "$\\displaystyle - \\cos{\\left(x + 2 \\right)}$"
      ],
      "text/plain": [
       "-cos(x + 2)"
      ]
     },
     "execution_count": 43,
     "metadata": {},
     "output_type": "execute_result"
    }
   ],
   "source": [
    "integral = sm.integrate(func, x)\n",
    "integral"
   ]
  },
  {
   "cell_type": "code",
   "execution_count": 13,
   "id": "7cee1816",
   "metadata": {},
   "outputs": [
    {
     "data": {
      "text/latex": [
       "$\\displaystyle \\frac{X^{3}}{3}$"
      ],
      "text/plain": [
       "X**3/3"
      ]
     },
     "execution_count": 13,
     "metadata": {},
     "output_type": "execute_result"
    }
   ],
   "source": [
    "sm.integrate(\"X**2\")"
   ]
  },
  {
   "cell_type": "code",
   "execution_count": null,
   "id": "c859ee0a",
   "metadata": {},
   "outputs": [],
   "source": [
    "def calculate_dif_intg():\n",
    "    funciont = input(\"Ingresa la funcion a grafica, EX:(x**2+2*x+5): \")\n",
    "    diff = sm.diff"
   ]
  },
  {
   "cell_type": "code",
   "execution_count": 6,
   "id": "6935bcba",
   "metadata": {},
   "outputs": [
    {
     "data": {
      "image/png": "[encoded data removed]",
      "text/plain": [
       "<Figure size 432x288 with 1 Axes>"
      ]
     },
     "metadata": {
      "needs_background": "light"
     },
     "output_type": "display_data"
    }
   ],
   "source": [
    "def graph(formula=None, x_range=np.linspace(-10, 10)):  \n",
    "    x = np.array(x_range)  \n",
    "    y = eval(\"23*x**4/4+np.sin(2*x)/2\")\n",
    "    plt.plot(x, y)  \n",
    "    plt.show()\n",
    "\n",
    "graph()\n",
    "# graph(func, range(-10, 11))\n",
    "# graph(str(der), range(-10, 11))\n",
    "# graph(str(integral), range(-10, 11))"
   ]
  },
  {
   "cell_type": "code",
   "execution_count": 2,
   "id": "04725284",
   "metadata": {},
   "outputs": [],
   "source": [
    "a, b, c, d, e, f, g, h, i, j, k, l, m, n, o, p, q, r, s, t, u, v, w, x, y, z = sm.symbols(\"a b c d e f g h i j k l m n o p q r s t u v w x y z\")"
   ]
  },
  {
   "cell_type": "markdown",
   "id": "289cbf67",
   "metadata": {},
   "source": []
  },
  {
   "cell_type": "code",
   "execution_count": 10,
   "id": "eeb63c2a",
   "metadata": {},
   "outputs": [
    {
     "data": {
      "text/latex": [
       "$\\displaystyle 46 x + \\left(\\frac{a x}{2} + 2\\right) \\cos{\\left(\\frac{a x^{2}}{4} + 2 x \\right)}$"
      ],
      "text/plain": [
       "46*x + (a*x/2 + 2)*cos(a*x**2/4 + 2*x)"
      ]
     },
     "execution_count": 10,
     "metadata": {},
     "output_type": "execute_result"
    }
   ],
   "source": [
    "sm.diff(\"23*x**2+sin(2*x+a*x**2/4)\", x)"
   ]
  },
  {
   "cell_type": "code",
   "execution_count": 4,
   "id": "8708b3bc",
   "metadata": {},
   "outputs": [
    {
     "data": {
      "text/latex": [
       "$\\displaystyle a^{2}$"
      ],
      "text/plain": [
       "a**2"
      ]
     },
     "execution_count": 4,
     "metadata": {},
     "output_type": "execute_result"
    }
   ],
   "source": [
    "a**2"
   ]
  },
  {
   "cell_type": "code",
   "execution_count": 5,
   "id": "079eabac",
   "metadata": {},
   "outputs": [
    {
     "data": {
      "text/latex": [
       "$\\displaystyle \\sin{\\left(a \\right)}$"
      ],
      "text/plain": [
       "sin(a)"
      ]
     },
     "execution_count": 5,
     "metadata": {},
     "output_type": "execute_result"
    }
   ],
   "source": [
    "sm.sin(a)"
   ]
  },
  {
   "cell_type": "code",
   "execution_count": 8,
   "id": "e7b8f56b",
   "metadata": {},
   "outputs": [
    {
     "data": {
      "text/latex": [
       "$\\displaystyle x^{2} + 2 \\sin{\\left(a + 2 x \\right)}$"
      ],
      "text/plain": [
       "x**2 + 2*sin(a + 2*x)"
      ]
     },
     "execution_count": 8,
     "metadata": {},
     "output_type": "execute_result"
    }
   ],
   "source": [
    "f = x**2+2*sm.sin(2*x+a)\n",
    "f"
   ]
  },
  {
   "cell_type": "code",
   "execution_count": 9,
   "id": "58ee9ce7",
   "metadata": {},
   "outputs": [
    {
     "data": {
      "text/latex": [
       "$\\displaystyle 2 x + 4 \\cos{\\left(a + 2 x \\right)}$"
      ],
      "text/plain": [
       "2*x + 4*cos(a + 2*x)"
      ]
     },
     "execution_count": 9,
     "metadata": {},
     "output_type": "execute_result"
    }
   ],
   "source": [
    "df = sm.diff(f, x)\n",
    "df"
   ]
  },
  {
   "cell_type": "code",
   "execution_count": 14,
   "id": "ad850679",
   "metadata": {},
   "outputs": [
    {
     "name": "stdout",
     "output_type": "stream",
     "text": [
      "Ecuacion: x**2+sin(2*x+a)\n"
     ]
    },
    {
     "data": {
      "text/plain": [
       "'x**2+sin(2*x+a)'"
      ]
     },
     "execution_count": 14,
     "metadata": {},
     "output_type": "execute_result"
    }
   ],
   "source": [
    "e = input(\"Ecuacion: \")\n",
    "e"
   ]
  },
  {
   "cell_type": "code",
   "execution_count": 13,
   "id": "59e472b7",
   "metadata": {},
   "outputs": [
    {
     "data": {
      "text/latex": [
       "$\\displaystyle 2 x + \\cos{\\left(x \\right)}$"
      ],
      "text/plain": [
       "2*x + cos(x)"
      ]
     },
     "execution_count": 13,
     "metadata": {},
     "output_type": "execute_result"
    }
   ],
   "source": [
    "sm.diff(\"x**2+sin(x)\", x)"
   ]
  },
  {
   "cell_type": "code",
   "execution_count": 15,
   "id": "09c71a35",
   "metadata": {},
   "outputs": [
    {
     "data": {
      "text/latex": [
       "$\\displaystyle 2 x + 2 \\cos{\\left(a + 2 x \\right)}$"
      ],
      "text/plain": [
       "2*x + 2*cos(a + 2*x)"
      ]
     },
     "execution_count": 15,
     "metadata": {},
     "output_type": "execute_result"
    }
   ],
   "source": [
    "sm.diff(e, x)"
   ]
  },
  {
   "cell_type": "code",
   "execution_count": 16,
   "id": "137535eb",
   "metadata": {},
   "outputs": [],
   "source": [
    "sm_funcs = {\n",
    "    \"sin\":\"sm.sin\",\n",
    "    \"cos\":\"sm.cos\",\n",
    "    \"tan\":\"sm.tan\",\n",
    "    \"sqrt\":\"sm.sqrt\",\n",
    "    \"e\":\"sm.exp\",\n",
    "    \"log\":\"sm.log\",\n",
    "    \"pi\":\"sm.pi\",\n",
    "}"
   ]
  },
  {
   "cell_type": "code",
   "execution_count": 17,
   "id": "e167db63",
   "metadata": {},
   "outputs": [],
   "source": [
    "def sm_replace(eq):\n",
    "    for i in sm_funcs:\n",
    "        if i in eq:\n",
    "            eq = eq.replace(i, sm_funcs[i])\n",
    "        return eq"
   ]
  },
  {
   "cell_type": "code",
   "execution_count": 18,
   "id": "137d5afb",
   "metadata": {},
   "outputs": [
    {
     "data": {
      "text/plain": [
       "'x**2+sm.sin(2*x+a)'"
      ]
     },
     "execution_count": 18,
     "metadata": {},
     "output_type": "execute_result"
    }
   ],
   "source": [
    "n_e = sm_replace(e)\n",
    "n_e"
   ]
  },
  {
   "cell_type": "code",
   "execution_count": 19,
   "id": "4f71e356",
   "metadata": {},
   "outputs": [
    {
     "data": {
      "text/plain": [
       "'x**2+sin(2*x+a)'"
      ]
     },
     "execution_count": 19,
     "metadata": {},
     "output_type": "execute_result"
    }
   ],
   "source": [
    "e"
   ]
  },
  {
   "cell_type": "code",
   "execution_count": 20,
   "id": "379d123e",
   "metadata": {},
   "outputs": [
    {
     "data": {
      "text/latex": [
       "$\\displaystyle 2 x + 2 \\cos{\\left(a + 2 x \\right)}$"
      ],
      "text/plain": [
       "2*x + 2*cos(a + 2*x)"
      ]
     },
     "execution_count": 20,
     "metadata": {},
     "output_type": "execute_result"
    }
   ],
   "source": [
    "sm.diff(e, x)"
   ]
  },
  {
   "cell_type": "code",
   "execution_count": 23,
   "id": "8958c3cf",
   "metadata": {},
   "outputs": [
    {
     "data": {
      "text/latex": [
       "$\\displaystyle 2 x$"
      ],
      "text/plain": [
       "2*x"
      ]
     },
     "execution_count": 23,
     "metadata": {},
     "output_type": "execute_result"
    }
   ],
   "source": [
    "sm.diff(\"x**2+sin(a)\", x)"
   ]
  },
  {
   "cell_type": "code",
   "execution_count": 28,
   "id": "3572e4ca",
   "metadata": {},
   "outputs": [
    {
     "data": {
      "text/plain": [
       "Text(0.5, 1.0, 'Ec $2*x + 2*cos(a + 2*x)$')"
      ]
     },
     "execution_count": 28,
     "metadata": {},
     "output_type": "execute_result"
    },
    {
     "data": {
      "image/png": "[encoded data removed]",
      "text/plain": [
       "<Figure size 432x288 with 1 Axes>"
      ]
     },
     "metadata": {
      "needs_background": "light"
     },
     "output_type": "display_data"
    }
   ],
   "source": [
    "plt.title(f\"Ec ${sm.diff(e, x)}$\")"
   ]
  },
  {
   "cell_type": "code",
   "execution_count": 36,
   "id": "2cc3cdc5",
   "metadata": {},
   "outputs": [
    {
     "name": "stdout",
     "output_type": "stream",
     "text": [
      "([dict_keys(['a', 'b', 'c'])], [dict_values([1, 2, 3])])\n"
     ]
    }
   ],
   "source": [
    "def constants(**kwargs):\n",
    "    return [kwargs.keys()], [kwargs.values()]\n",
    "\n",
    "print(constants(a=1, b=2, c=3))"
   ]
  },
  {
   "cell_type": "code",
   "execution_count": null,
   "id": "3bbd1e50",
   "metadata": {},
   "outputs": [],
   "source": []
  }
 ],
 "metadata": {
  "interpreter": {
   "hash": "4e8b85baeb35449150c11be3f945083fc70160e203fa2998a3bd42572cd09da4"
  },
  "kernelspec": {
   "display_name": "Python 3.9.12 ('base')",
   "language": "python",
   "name": "python3"
  },
  "language_info": {
   "codemirror_mode": {
    "name": "ipython",
    "version": 3
   },
   "file_extension": ".py",
   "mimetype": "text/x-python",
   "name": "python",
   "nbconvert_exporter": "python",
   "pygments_lexer": "ipython3",
   "version": "3.9.12"
  }
 },
 "nbformat": 4,
 "nbformat_minor": 5
}
